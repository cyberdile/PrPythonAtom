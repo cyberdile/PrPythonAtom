{
 "cells": [
  {
   "cell_type": "code",
   "execution_count": 606,
   "metadata": {},
   "outputs": [],
   "source": [
    "class HashMap:\n",
    "    \n",
    "    class Entry:\n",
    "        def __init__(self, key, value):\n",
    "            #TODO store key and value as attributes\n",
    "            self.key = key\n",
    "            self.value = value\n",
    "            \n",
    "        def get_key(self):\n",
    "            #TODO return key\n",
    "            return self.key\n",
    "            \n",
    "        def get_value(self):\n",
    "            #TODO return value\n",
    "            return self.value\n",
    "            \n",
    "        def __eq__(self, other):\n",
    "            #TODO реализовать функцию сравнения\n",
    "            #Пояснения: self - текущий объект entry, other - какой-то другой объект\n",
    "            #Какое условие на равенство объектов в ассоциативном массиве?\n",
    "            #Если объекты равны, то метод должен возвращать True, иначе False\n",
    "            return self.key == other.key\n",
    "    \n",
    "    def __init__(self, bucket_num = 64):\n",
    "        #TODO Создать массив для бакетов\n",
    "        self.bucket = [None for _ in range(bucket_num)]\n",
    "\n",
    "    def get(self, key, default_value=None):\n",
    "        #TODO метод get, возвращающий значение, если оно присутствует, иначе default_value\n",
    "        h = self._get_hash(key)\n",
    "        k = self._get_index(h)\n",
    "        for i in range(len(self.bucket)):\n",
    "            if self.bucket[k] is None:\n",
    "                return default_value\n",
    "            elif self.bucket[k].key == key:\n",
    "                return self.bucket[k].get_value()\n",
    "            else:\n",
    "                k = (k + 1) % len(self.bucket)\n",
    "        return default_value\n",
    "\n",
    "    def put(self, key, value):\n",
    "        #TODO метод put, кладет значение по ключу, в случае, если ключ уже присутствует он его заменяет\n",
    "        h = self._get_hash(key)\n",
    "        k = self._get_index(h)\n",
    "        while True:\n",
    "            if self.bucket[k] is None:\n",
    "                self.bucket[k] = self.Entry(key, value)\n",
    "                return\n",
    "            else:\n",
    "                if self.bucket[k].key == key:\n",
    "                    self.bucket[k] = self.Entry(key, value)\n",
    "                    return\n",
    "                else:\n",
    "                    k =(k + 1 )%len(self.bucket)\n",
    "            \n",
    "        \n",
    "    def __len__(self):\n",
    "        #TODO Возвращает количество Entry в массиве\n",
    "        return len(self.bucket)\n",
    "\n",
    "    def _get_hash(self, key):\n",
    "        #TODO Вернуть хеш от ключа, по которому он кладется в бакет\n",
    "        return hash(key)\n",
    "\n",
    "    def _get_index(self, hash_value):\n",
    "        #TODO По значению хеша вернуть индекс элемента в массиве\n",
    "        return hash_value % (len(self.bucket)-1)\n",
    "        \n",
    "#     def values(self):\n",
    "#         #TODO Задание со звездочкой!\n",
    "#         #Должен возвращать генератор или итератор значений (на самом деле итератор, но не принципиально, через генераторы проще ИМХО)\n",
    "        \n",
    "#     def keys(self):\n",
    "#         #TODO Задание со звездочкой!\n",
    "#         #Должен возвращать генератор или итератор ключей (на самом деле итератор, но не принципиально, через генераторы проще ИМХО)\n",
    "        \n",
    "#     def items(self):\n",
    "#         #TODO Задание со звездочкой!\n",
    "#         #Должен возвращать генератор или итератор пар ключ и значение (tuples)\n",
    "#         #(на самом деле итератор, но не принципиально, через генераторы проще ИМХО)\n",
    "        \n",
    "    def __str__(self):\n",
    "        #TODO Метод, вызываемый при вызове print, пофантазируйте, что можно написать\n",
    "        s = \"\"\n",
    "        for i in self.bucket:\n",
    "            if i is not None:\n",
    "                for j in i:\n",
    "                    s += \"( '{}' : '{}' ) \".format(j.get_key(), j.get_value())\n",
    "        return s"
   ]
  },
  {
   "cell_type": "code",
   "execution_count": 607,
   "metadata": {},
   "outputs": [],
   "source": [
    "import random\n",
    "\n",
    "def test_hashmap_04():\n",
    "    entries = [(5, 7), (\"entries\", 56), (\"value\", 54.), (1000, \"t\"), (HashMap(10), ()), ({\"s\":\"v\"}, {\"v\":\"s\"})]\n",
    "    for k, v in entries:\n",
    "        entry = HashMap.Entry(k, v)\n",
    "        assert entry.get_key() == k\n",
    "        assert entry.get_value() == v\n",
    "    print(\"Test 4 part 01 passed\")\n",
    "        \n",
    "    for i in range(len(entries)):\n",
    "        entry_one = HashMap.Entry(entries[i][0], entries[i][1])\n",
    "        for _ in range(10):\n",
    "            j = random.randint(0, len(entries)-1)\n",
    "            p = random.randint(0, len(entries)-1)\n",
    "            entry_two = HashMap.Entry(entries[j][0], entries[p][1])\n",
    "            if j == i:\n",
    "                assert entry_one == entry_two\n",
    "            else:\n",
    "                assert entry_one != entry_two\n",
    "    print(\"Test 4 part 02 passed\")\n",
    "    \n",
    "def test_hashmap_05():\n",
    "    hashmap = HashMap(10)\n",
    "    assert sum(isinstance(v, list) for k, v in hashmap.__dict__.items()) == 1\n",
    "    print(\"Test 5 part 01 passed\")\n",
    "    \n",
    "    inner_list_name = [k for k, v in hashmap.__dict__.items() if isinstance(v, list)][0]\n",
    "    for i in range(10):\n",
    "        assert len(HashMap(i).__dict__[inner_list_name]) == i\n",
    "    print(\"Test 5 part 02 passed\")\n",
    "    \n",
    "def test_hashmap_06():\n",
    "    hashmap = HashMap(10)\n",
    "    entries = [(5, 7), (\"entries\", 56), (\"value\", 54.), (1000, \"t\"), (HashMap(10), ())]\n",
    "    for k, v in entries:\n",
    "        hashmap.put(k, v)\n",
    "    for k, v in entries:\n",
    "        print(hashmap.get(k))\n",
    "        assert hashmap.get(k) == v\n",
    "    print(\"Test 6 part 01 passed\")\n",
    "    \n",
    "    for _ in range(100):\n",
    "        i = random.randint(0, len(entries)-1)\n",
    "        j = random.randint(0, len(entries)-1)\n",
    "        hashmap.put(i, j)\n",
    "        assert hashmap.get(i) == j\n",
    "        \n",
    "    assert hashmap.get(\"nexit\", \"default\") ==\"default\"\n",
    "    \n",
    "    print(\"Test 6 part 02 passed\")"
   ]
  },
  {
   "cell_type": "code",
   "execution_count": 608,
   "metadata": {},
   "outputs": [
    {
     "name": "stdout",
     "output_type": "stream",
     "text": [
      "Test 4 part 01 passed\n",
      "Test 4 part 02 passed\n"
     ]
    }
   ],
   "source": [
    "test_hashmap_04()"
   ]
  },
  {
   "cell_type": "code",
   "execution_count": 609,
   "metadata": {},
   "outputs": [
    {
     "name": "stdout",
     "output_type": "stream",
     "text": [
      "Test 5 part 01 passed\n",
      "Test 5 part 02 passed\n"
     ]
    }
   ],
   "source": [
    "test_hashmap_05()"
   ]
  },
  {
   "cell_type": "code",
   "execution_count": 610,
   "metadata": {},
   "outputs": [
    {
     "name": "stdout",
     "output_type": "stream",
     "text": [
      "7\n",
      "56\n",
      "54.0\n",
      "t\n",
      "()\n",
      "Test 6 part 01 passed\n",
      "Test 6 part 02 passed\n"
     ]
    }
   ],
   "source": [
    "test_hashmap_06()"
   ]
  },
  {
   "cell_type": "code",
   "execution_count": 612,
   "metadata": {},
   "outputs": [],
   "source": [
    "class HashSet(HashMap):\n",
    "   \n",
    "    def get(self, key, default_value=None):\n",
    "        #TODO достаточно переопределить данный метод\n",
    "        super().get()\n",
    "\n",
    "    def put(self, key, value):\n",
    "        #TODO метод put, нужно переопределить данный метод\n",
    "        super().put()\n",
    "    \n",
    "    def __len__(self):\n",
    "        #TODO Возвращает количество Entry в массиве\n",
    "        return len(self)\n",
    "\n",
    "#     def values(self):\n",
    "#         #TODO Задание со звездочкой!\n",
    "#         #Если делали, то нужно бы переопределить\n",
    "#         #Должен возвращать генератор или итератор значений (на самом деле итератор, но не принципиально, через генераторы проще ИМХО)"
   ]
  }
 ],
 "metadata": {
  "kernelspec": {
   "display_name": "Python 3",
   "language": "python",
   "name": "python3"
  },
  "language_info": {
   "codemirror_mode": {
    "name": "ipython",
    "version": 3
   },
   "file_extension": ".py",
   "mimetype": "text/x-python",
   "name": "python",
   "nbconvert_exporter": "python",
   "pygments_lexer": "ipython3",
   "version": "3.7.0"
  }
 },
 "nbformat": 4,
 "nbformat_minor": 2
}
